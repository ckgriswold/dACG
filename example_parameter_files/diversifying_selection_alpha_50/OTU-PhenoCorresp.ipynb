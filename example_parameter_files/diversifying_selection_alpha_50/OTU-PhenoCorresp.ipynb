{
 "cells": [
  {
   "cell_type": "code",
   "execution_count": 1,
   "metadata": {
    "collapsed": true
   },
   "outputs": [],
   "source": [
    "from ast import literal_eval\n",
    "from scipy.spatial import distance\n",
    "from joblib import Parallel, delayed, parallel_backend\n",
    "import multiprocessing"
   ]
  },
  {
   "cell_type": "code",
   "execution_count": 2,
   "metadata": {
    "collapsed": true
   },
   "outputs": [],
   "source": [
    "def bits(n):\n",
    "    b = []\n",
    "    while n:\n",
    "        b = [n & 1] + b\n",
    "        n >>= 1\n",
    "    if len(b) < 16:\n",
    "        for i in range(16 - len(b)):\n",
    "            b = [0] + b\n",
    "    return b or [0,0,0,0,0,0,0,0,0,0,0,0,0,0,0,0]"
   ]
  },
  {
   "cell_type": "code",
   "execution_count": 3,
   "metadata": {
    "collapsed": true
   },
   "outputs": [],
   "source": [
    "def get_geno_bits(geno,n_sample,num_reg):\n",
    "    geno_bits = []\n",
    "    \n",
    "    for ind in range(n_sample):\n",
    "        geno_bits.append([])\n",
    "        for reg in range(num_reg):\n",
    "            seq = bits(geno[ind * num_reg + reg])\n",
    "            for bp in range(len(seq)):\n",
    "                geno_bits[ind].append(seq[bp])\n",
    "    \n",
    "    return geno_bits\n",
    "    "
   ]
  },
  {
   "cell_type": "code",
   "execution_count": 4,
   "metadata": {
    "collapsed": true
   },
   "outputs": [],
   "source": [
    "def get_otus(geno_bits,x,n_sample,num_reg):\n",
    "    av_list = []\n",
    "    for i in range(n_sample - 1):\n",
    "        av_list.append(1 + i)\n",
    "    \n",
    "    otu = []\n",
    "    x_otu = []\n",
    "    \n",
    "    rep = 0\n",
    "    while(1):\n",
    "        tmp = [[item for item in geno_bits[rep]]]\n",
    "        x_tmp = [x[rep]]\n",
    "        rm = []\n",
    "        for i in range(len(av_list)):\n",
    "            num_diff = distance.cityblock(geno_bits[rep],geno_bits[av_list[i]])\n",
    "                \n",
    "            if num_diff/(num_reg * 15) < 0.03:\n",
    "                tmp.append([item for item in geno_bits[av_list[i]]])\n",
    "                x_tmp.append(x[av_list[i]])\n",
    "                rm.append(av_list[i])\n",
    "                \n",
    "        otu.append([[item for item in sublist] for sublist in tmp])\n",
    "        x_otu.append([item for item in x_tmp])\n",
    "        \n",
    "        tmp_av_list = []\n",
    "        for i in range(len(av_list)):\n",
    "            check = 0\n",
    "            for j in range(len(rm)):\n",
    "                if av_list[i] == rm[j]:\n",
    "                    check = 1\n",
    "            if check == 0:\n",
    "                tmp_av_list.append(av_list[i])\n",
    "        av_list = [tmp_av_list[i] for i in range(len(tmp_av_list))]\n",
    "        if len(av_list) == 0:\n",
    "            break\n",
    "        rep = min(av_list)\n",
    "        av_list.remove(rep)\n",
    "    \n",
    "    rm_otu = []\n",
    "    for i in range(len(otu)):\n",
    "        if len(otu[i]) <= 1:\n",
    "            rm_otu.append(otu[i])\n",
    "    \n",
    "    for i in range(len(rm_otu)):\n",
    "        otu.remove(rm_otu[i])\n",
    "    \n",
    "    return [otu,x_otu]"
   ]
  },
  {
   "cell_type": "code",
   "execution_count": 5,
   "metadata": {
    "collapsed": true
   },
   "outputs": [],
   "source": [
    "geno=[]\n",
    "with open('Geno.out','r') as data_file: \n",
    "    for line in data_file: \n",
    "       geno.append(literal_eval(line))\n",
    "data_file.close()"
   ]
  },
  {
   "cell_type": "code",
   "execution_count": 6,
   "metadata": {
    "collapsed": true
   },
   "outputs": [],
   "source": [
    "pheno=[]\n",
    "with open('Pheno.out','r') as data_file: \n",
    "    for line in data_file: \n",
    "       pheno.append(literal_eval(line))\n",
    "data_file.close()"
   ]
  },
  {
   "cell_type": "code",
   "execution_count": 7,
   "metadata": {},
   "outputs": [
    {
     "data": {
      "text/plain": [
       "64592"
      ]
     },
     "execution_count": 7,
     "metadata": {},
     "output_type": "execute_result"
    }
   ],
   "source": [
    "# Check that genotypes are okay, such that max < 2^16 = 65536\n",
    "max([max(geno[i]) for i in range(len(geno))])"
   ]
  },
  {
   "cell_type": "code",
   "execution_count": 8,
   "metadata": {},
   "outputs": [
    {
     "data": {
      "text/plain": [
       "100"
      ]
     },
     "execution_count": 8,
     "metadata": {},
     "output_type": "execute_result"
    }
   ],
   "source": [
    "len(geno)"
   ]
  },
  {
   "cell_type": "code",
   "execution_count": 9,
   "metadata": {
    "collapsed": true
   },
   "outputs": [],
   "source": [
    "num_reps = len(geno)\n",
    "num_reg = 100\n",
    "n_sample = 1000\n",
    "\n",
    "num_cores = 12"
   ]
  },
  {
   "cell_type": "code",
   "execution_count": 10,
   "metadata": {
    "collapsed": true
   },
   "outputs": [],
   "source": [
    "with parallel_backend(\"loky\", inner_max_num_threads=1):\n",
    "    geno_bits = Parallel(n_jobs=num_cores)(delayed(get_geno_bits)(geno[i],n_sample,num_reg) for i in range(len(geno)))"
   ]
  },
  {
   "cell_type": "code",
   "execution_count": 11,
   "metadata": {
    "collapsed": true
   },
   "outputs": [],
   "source": [
    "with parallel_backend(\"loky\", inner_max_num_threads=1):\n",
    "    otu_res = Parallel(n_jobs=num_cores)(delayed(get_otus)(geno_bits[i],pheno[i],n_sample,num_reg) for i in range(len(geno_bits)))"
   ]
  },
  {
   "cell_type": "code",
   "execution_count": 12,
   "metadata": {
    "collapsed": true
   },
   "outputs": [],
   "source": [
    "x_list = [[item for item in otu_res[i][1]] for i in range(len(otu_res))]\n",
    "g_list = [[[[item for item in sublist] for sublist in otus] for otus in otu_res[rep][0]] for rep in range(len(otu_res)) ]"
   ]
  },
  {
   "cell_type": "code",
   "execution_count": 13,
   "metadata": {
    "collapsed": true
   },
   "outputs": [],
   "source": [
    "import matplotlib.pyplot as plt\n",
    "import math as m"
   ]
  },
  {
   "cell_type": "code",
   "execution_count": 29,
   "metadata": {
    "collapsed": true
   },
   "outputs": [],
   "source": [
    "rep = 0\n",
    "\n",
    "x_rep = [[item for item in sublist] for sublist in x_list[rep]]"
   ]
  },
  {
   "cell_type": "code",
   "execution_count": 30,
   "metadata": {},
   "outputs": [
    {
     "data": {
      "image/png": "[encoded data removed]",
      "text/plain": [
       "<Figure size 432x288 with 1 Axes>"
      ]
     },
     "metadata": {},
     "output_type": "display_data"
    }
   ],
   "source": [
    "plt.hist(x_rep,25)\n",
    "plt.show()"
   ]
  },
  {
   "cell_type": "code",
   "execution_count": 31,
   "metadata": {},
   "outputs": [
    {
     "data": {
      "image/png": "[encoded data removed]",
      "text/plain": [
       "<Figure size 432x288 with 1 Axes>"
      ]
     },
     "metadata": {},
     "output_type": "display_data"
    }
   ],
   "source": [
    "plt.hist(x_rep,25)\n",
    "\n",
    "plt.savefig('pheno_hist.eps',format='eps',dpi=600)"
   ]
  },
  {
   "cell_type": "code",
   "execution_count": 32,
   "metadata": {},
   "outputs": [
    {
     "data": {
      "image/png": "[encoded data removed]",
      "text/plain": [
       "<Figure size 432x288 with 1 Axes>"
      ]
     },
     "metadata": {},
     "output_type": "display_data"
    }
   ],
   "source": [
    "plt.hist(x_rep,25)\n",
    "\n",
    "plt.savefig('pheno_hist.tiff',format='tiff',dpi=600)"
   ]
  },
  {
   "cell_type": "code",
   "execution_count": 33,
   "metadata": {
    "collapsed": true
   },
   "outputs": [],
   "source": [
    "m_x_rep = [sum([x_rep[sp][ind] for ind in range(len(x_rep[sp]))])/len(x_rep[sp]) for sp in range(len(x_rep))]"
   ]
  },
  {
   "cell_type": "code",
   "execution_count": 34,
   "metadata": {},
   "outputs": [
    {
     "data": {
      "text/plain": [
       "[-463.9423485277776,\n",
       " -139.33819638043477,\n",
       " 131.82048035918368,\n",
       " 440.60618723456815,\n",
       " 609.2810617633585,\n",
       " 36.95740986734695]"
      ]
     },
     "execution_count": 34,
     "metadata": {},
     "output_type": "execute_result"
    }
   ],
   "source": [
    "m_x_rep"
   ]
  },
  {
   "cell_type": "code",
   "execution_count": 35,
   "metadata": {
    "collapsed": true
   },
   "outputs": [],
   "source": [
    "dist_x_rep = [((m_x_rep[sp1] - m_x_rep[sp2])**2)**0.5 for sp1 in range(len(m_x_rep) - 1) \\\n",
    "              for sp2 in [sp1 + i + 1 for i in range(len(m_x_rep) - (sp1 +1))]]"
   ]
  },
  {
   "cell_type": "code",
   "execution_count": 36,
   "metadata": {},
   "outputs": [
    {
     "data": {
      "text/plain": [
       "[324.6041521473428,\n",
       " 595.7628288869613,\n",
       " 904.5485357623458,\n",
       " 1073.2234102911361,\n",
       " 500.89975839512454,\n",
       " 271.15867673961844,\n",
       " 579.944383615003,\n",
       " 748.6192581437932,\n",
       " 176.29560624778173,\n",
       " 308.78570687538445,\n",
       " 477.46058140417483,\n",
       " 94.86307049183672,\n",
       " 168.67487452879033,\n",
       " 403.6487773672212,\n",
       " 572.3236518960115]"
      ]
     },
     "execution_count": 36,
     "metadata": {},
     "output_type": "execute_result"
    }
   ],
   "source": [
    "dist_x_rep"
   ]
  },
  {
   "cell_type": "code",
   "execution_count": 37,
   "metadata": {
    "collapsed": true
   },
   "outputs": [],
   "source": [
    "rep = 0\n",
    "\n",
    "dist_g_rep = [[sum([distance.cityblock(g_list[rep][sp1][ind1],g_list[rep][sp2][ind2])/(len(g_list[rep][sp1])*len(g_list[rep][sp2])) \\\n",
    "                for ind1 in range(len(g_list[rep][sp1])) for ind2 in range(len(g_list[rep][sp2]))]) \\\n",
    "        for sp1 in range(len(g_list[rep]) - 1) for sp2 in [sp1 + i + 1 for i in range(len(g_list[rep]) - (sp1 + 1))]]]"
   ]
  },
  {
   "cell_type": "code",
   "execution_count": 38,
   "metadata": {},
   "outputs": [
    {
     "data": {
      "text/plain": [
       "[[376.46968599033283,\n",
       "  382.9682539683079,\n",
       "  408.88765432099126,\n",
       "  401.1973706530822,\n",
       "  394.17154195014234,\n",
       "  411.1652173912014,\n",
       "  411.937667740182,\n",
       "  415.88308994358226,\n",
       "  127.8891969831367,\n",
       "  368.8428571427743,\n",
       "  367.39302071975146,\n",
       "  411.7513119532875,\n",
       "  250.14885496184405,\n",
       "  407.19639707732983,\n",
       "  413.2449758529843]]"
      ]
     },
     "execution_count": 38,
     "metadata": {},
     "output_type": "execute_result"
    }
   ],
   "source": [
    "dist_g_rep"
   ]
  },
  {
   "cell_type": "code",
   "execution_count": 39,
   "metadata": {},
   "outputs": [
    {
     "data": {
      "image/png": "[encoded data removed]",
      "text/plain": [
       "<Figure size 432x288 with 1 Axes>"
      ]
     },
     "metadata": {},
     "output_type": "display_data"
    }
   ],
   "source": [
    "plt.scatter(dist_g_rep,dist_x_rep)\n",
    "plt.show()"
   ]
  },
  {
   "cell_type": "code",
   "execution_count": 40,
   "metadata": {},
   "outputs": [
    {
     "data": {
      "image/png": "[encoded data removed]",
      "text/plain": [
       "<Figure size 432x288 with 1 Axes>"
      ]
     },
     "metadata": {},
     "output_type": "display_data"
    }
   ],
   "source": [
    "plt.scatter(dist_g_rep,dist_x_rep)\n",
    "\n",
    "plt.savefig('geno_vs_pheno_dist.eps',format='eps',dpi=600)"
   ]
  },
  {
   "cell_type": "code",
   "execution_count": 41,
   "metadata": {},
   "outputs": [
    {
     "data": {
      "image/png": "[encoded data removed]",
      "text/plain": [
       "<Figure size 432x288 with 1 Axes>"
      ]
     },
     "metadata": {},
     "output_type": "display_data"
    }
   ],
   "source": [
    "plt.scatter(dist_g_rep,dist_x_rep)\n",
    "\n",
    "plt.savefig('geno_vs_pheno_dist.tiff',format='tiff',dpi=600)"
   ]
  },
  {
   "cell_type": "code",
   "execution_count": 42,
   "metadata": {},
   "outputs": [
    {
     "data": {
      "text/plain": [
       "6"
      ]
     },
     "execution_count": 42,
     "metadata": {},
     "output_type": "execute_result"
    }
   ],
   "source": [
    "len(g_list[1])"
   ]
  },
  {
   "cell_type": "code",
   "execution_count": 43,
   "metadata": {
    "collapsed": true
   },
   "outputs": [],
   "source": [
    "S_list = []\n",
    "pi_list = []\n",
    "D_list = []\n",
    "    \n",
    "    \n",
    "\n",
    "for i in range(len(g_list)):\n",
    "    otu = g_list[i]\n",
    "    \n",
    "    loc_S_list = []\n",
    "    loc_th_list = []\n",
    "    loc_n_list = []\n",
    "    loc_D_list = []\n",
    "    \n",
    "    for cls in range(len(otu)):\n",
    "        dist = []\n",
    "        bp_sum = [0 for i in range(num_reg * 16)]\n",
    "        for bp in range(num_reg * 16):\n",
    "            bp_sum[bp] = bp_sum[bp] + otu[cls][len(otu[cls]) - 1][bp]\n",
    "        for ind1 in range(len(otu[cls]) - 1):\n",
    "            for indx in range(len(otu[cls]) - (ind1 + 1)):\n",
    "                ind2 = ind1 + indx + 1\n",
    "                dist.append(distance.cityblock(otu[cls][ind1],otu[cls][ind2]))\n",
    "            for bp in range(len(otu[cls][ind1])):\n",
    "                bp_sum[bp] = bp_sum[bp] + otu[cls][ind1][bp]\n",
    "        \n",
    "        n = len(otu[cls])\n",
    "        \n",
    "        k = sum(dist)/len(dist)\n",
    "        \n",
    "        S = 0\n",
    "        for bp in range(num_reg * 16):\n",
    "            if bp_sum[bp] > 0 and bp_sum[bp] < n:\n",
    "                S = S + 1\n",
    "        \n",
    "        a1 = 0\n",
    "        a2 = 0\n",
    "        for i in range(n - 1):\n",
    "            a1 = a1 + 1/(i+1)\n",
    "            a2 = a2 + 1/((i+1)**2)\n",
    "        \n",
    "        b1 = (n + 1)/(3*(n - 1))\n",
    "        b2 = (2*(n**2 + n + 3))/(9*n*(n - 1))\n",
    "        c1 = b1 - 1/a1\n",
    "        c2 = b2 - (n+2)/(a1*n) + a2/(a1**2)\n",
    "        e1 = c1/a1\n",
    "        e2 = c2/(a1**2 + a2)\n",
    "        \n",
    "        if (e1*S + e2*S*(S - 1)) > 0:\n",
    "            d = (k - S/a1)/((e1*S + e2*S*(S - 1))**0.5)\n",
    "        else:\n",
    "            d = 0\n",
    "        \n",
    "        loc_S_list.append(S)\n",
    "        loc_th_list.append(k)\n",
    "        loc_D_list.append(d)\n",
    "    \n",
    "    S_list.append(loc_S_list)\n",
    "    pi_list.append(loc_th_list)\n",
    "    D_list.append(loc_D_list)"
   ]
  },
  {
   "cell_type": "code",
   "execution_count": 44,
   "metadata": {
    "collapsed": true
   },
   "outputs": [],
   "source": [
    "x_mean = []\n",
    "\n",
    "for sublist in x_list:\n",
    "    for sp in sublist:\n",
    "        if len(sp) > 1:\n",
    "            x_mean.append([sum([item for item in sp])/len(sp)])"
   ]
  },
  {
   "cell_type": "code",
   "execution_count": 45,
   "metadata": {
    "collapsed": true
   },
   "outputs": [],
   "source": [
    "D_flat = [item for sublist in D_list for item in sublist]\n",
    "pi_flat = [item for sublist in pi_list for item in sublist]"
   ]
  },
  {
   "cell_type": "code",
   "execution_count": 46,
   "metadata": {
    "scrolled": true
   },
   "outputs": [
    {
     "data": {
      "image/png": "[encoded data removed]",
      "text/plain": [
       "<Figure size 432x288 with 1 Axes>"
      ]
     },
     "metadata": {},
     "output_type": "display_data"
    }
   ],
   "source": [
    "plt.scatter(x_mean,D_flat)\n",
    "plt.show()"
   ]
  },
  {
   "cell_type": "code",
   "execution_count": 47,
   "metadata": {},
   "outputs": [
    {
     "data": {
      "text/plain": [
       "1600"
      ]
     },
     "execution_count": 47,
     "metadata": {},
     "output_type": "execute_result"
    }
   ],
   "source": [
    "len(g_list[0][0][0])"
   ]
  },
  {
   "cell_type": "code",
   "execution_count": 48,
   "metadata": {
    "collapsed": true
   },
   "outputs": [],
   "source": [
    "freq_sp = []\n",
    "for i in range(50):\n",
    "    comm_frq_list = []\n",
    "    for j in range(len(g_list[i])):\n",
    "        frq_list = [0 for k in range(1600)]\n",
    "        for k in range(len(g_list[i][j])):\n",
    "            frq_list = [x + y for x,y in zip(frq_list,g_list[i][j][k])]\n",
    "        comm_frq_list.append(frq_list)\n",
    "    freq_sp.append(comm_frq_list)"
   ]
  },
  {
   "cell_type": "code",
   "execution_count": 49,
   "metadata": {
    "collapsed": true
   },
   "outputs": [],
   "source": [
    "freq_spect = [[0 for j in range(1000 + 1)] for i in range(1000 + 1)]"
   ]
  },
  {
   "cell_type": "code",
   "execution_count": 50,
   "metadata": {
    "collapsed": true
   },
   "outputs": [],
   "source": [
    "for i in range(len(freq_sp)):\n",
    "    for j in range(len(freq_sp[i]) - 1):\n",
    "        for l in [j + 1 + m for m in range(len(freq_sp[i]) - 1 - j)]:\n",
    "            #print([i,j,l])\n",
    "            for k in range(1600):\n",
    "                sp_1_count = freq_sp[i][j][k]\n",
    "                sp_2_count = freq_sp[i][l][k]\n",
    "                if sp_1_count + sp_2_count > 0:\n",
    "                    freq_spect[sp_1_count][sp_2_count] = freq_spect[sp_1_count][sp_2_count] + 1"
   ]
  },
  {
   "cell_type": "code",
   "execution_count": 51,
   "metadata": {
    "collapsed": true
   },
   "outputs": [],
   "source": [
    "x_flat = []\n",
    "y_flat = []\n",
    "z_flat = []\n",
    "for i in range(len(freq_spect)):\n",
    "    for j in range(len(freq_spect[0])):\n",
    "        if freq_spect[i][j] > 0:\n",
    "            x_flat.append(i)\n",
    "            y_flat.append(j)\n",
    "            z_flat.append(m.log10(freq_spect[i][j]))"
   ]
  },
  {
   "cell_type": "code",
   "execution_count": 52,
   "metadata": {
    "collapsed": true
   },
   "outputs": [],
   "source": [
    "from mpl_toolkits.mplot3d import Axes3D\n",
    "import matplotlib.pyplot as plt"
   ]
  },
  {
   "cell_type": "code",
   "execution_count": 53,
   "metadata": {},
   "outputs": [
    {
     "data": {
      "image/png": "[encoded data removed]",
      "text/plain": [
       "<Figure size 432x288 with 1 Axes>"
      ]
     },
     "metadata": {},
     "output_type": "display_data"
    }
   ],
   "source": [
    "fig = plt.figure()\n",
    "ax = fig.add_subplot(111,projection='3d')\n",
    "\n",
    "ax.scatter(x_flat,y_flat,z_flat)\n",
    "plt.show()"
   ]
  },
  {
   "cell_type": "markdown",
   "metadata": {},
   "source": [
    "abundance informative about process"
   ]
  },
  {
   "cell_type": "code",
   "execution_count": 54,
   "metadata": {
    "collapsed": true
   },
   "outputs": [],
   "source": [
    "from scipy import linalg\n",
    "import numpy as np"
   ]
  },
  {
   "cell_type": "code",
   "execution_count": 55,
   "metadata": {
    "collapsed": true
   },
   "outputs": [],
   "source": [
    "s_list = []\n",
    "for i in range(len(freq_sp)):\n",
    "    freq_spect_loc = [[0 for j in range(1000 + 1)] for i in range(1000 + 1)]\n",
    "    for j in range(len(freq_sp[i]) - 1):\n",
    "        for l in [j + 1 + m for m in range(len(freq_sp[i]) - 1 - j)]:\n",
    "            #print([i,j,l])\n",
    "            for k in range(1600):\n",
    "                sp_1_count = freq_sp[i][j][k]\n",
    "                sp_2_count = freq_sp[i][l][k]\n",
    "                if sp_1_count + sp_2_count > 0:\n",
    "                    freq_spect[sp_1_count][sp_2_count] = freq_spect[sp_1_count][sp_2_count] + 1\n",
    "    U, s, Vh = linalg.svd(np.matrix(freq_spect))\n",
    "    s_list.append(s)"
   ]
  },
  {
   "cell_type": "code",
   "execution_count": 56,
   "metadata": {
    "collapsed": true
   },
   "outputs": [],
   "source": [
    "s_sum = [0 for i in range(1001)]\n",
    "for i in range(len(s_list)):\n",
    "    s_sum = [x + y for x,y in zip(s_sum,s_list[i])]\n",
    "\n",
    "s_mean = [s_sum[i]/len(s_list) for i in range(len(s_sum))]"
   ]
  },
  {
   "cell_type": "code",
   "execution_count": 59,
   "metadata": {},
   "outputs": [
    {
     "data": {
      "image/png": "[encoded data removed]",
      "text/plain": [
       "<Figure size 432x288 with 1 Axes>"
      ]
     },
     "metadata": {},
     "output_type": "display_data"
    }
   ],
   "source": [
    "x_val = [i for i in range(350)]\n",
    "y_val = [m.log10(s_mean[i]) for i in range(350)]\n",
    "\n",
    "plt.scatter(x_val,y_val)\n",
    "plt.show()"
   ]
  },
  {
   "cell_type": "code",
   "execution_count": 60,
   "metadata": {},
   "outputs": [
    {
     "data": {
      "image/png": "[encoded data removed]",
      "text/plain": [
       "<Figure size 432x288 with 1 Axes>"
      ]
     },
     "metadata": {},
     "output_type": "display_data"
    }
   ],
   "source": [
    "x_val = [i for i in range(350)]\n",
    "y_val = [m.log10(s_mean[i]) for i in range(350)]\n",
    "\n",
    "plt.scatter(x_val,y_val)\n",
    "plt.savefig(\"SVD.eps\",format='eps',dpi=600)"
   ]
  },
  {
   "cell_type": "code",
   "execution_count": 61,
   "metadata": {},
   "outputs": [
    {
     "data": {
      "image/png": "[encoded data removed]",
      "text/plain": [
       "<Figure size 432x288 with 1 Axes>"
      ]
     },
     "metadata": {},
     "output_type": "display_data"
    }
   ],
   "source": [
    "x_val = [i for i in range(350)]\n",
    "y_val = [m.log10(s_mean[i]) for i in range(350)]\n",
    "\n",
    "plt.scatter(x_val,y_val)\n",
    "plt.savefig(\"SVD.tiff\",format='tiff',dpi=600)"
   ]
  },
  {
   "cell_type": "code",
   "execution_count": 62,
   "metadata": {},
   "outputs": [
    {
     "data": {
      "text/plain": [
       "-3.366593541113308e-06"
      ]
     },
     "execution_count": 62,
     "metadata": {},
     "output_type": "execute_result"
    }
   ],
   "source": [
    "U[:,0][350]"
   ]
  },
  {
   "cell_type": "code",
   "execution_count": 63,
   "metadata": {},
   "outputs": [
    {
     "data": {
      "text/plain": [
       "array([-0.911584  , -0.41083124, -0.00523511, ...,  0.        ,\n",
       "        0.        ,  0.        ])"
      ]
     },
     "execution_count": 63,
     "metadata": {},
     "output_type": "execute_result"
    }
   ],
   "source": [
    "Vh[:,0]"
   ]
  },
  {
   "cell_type": "code",
   "execution_count": 64,
   "metadata": {},
   "outputs": [
    {
     "data": {
      "image/png": "[encoded data removed]",
      "text/plain": [
       "<Figure size 432x288 with 1 Axes>"
      ]
     },
     "metadata": {},
     "output_type": "display_data"
    }
   ],
   "source": [
    "x_val = [i for i in range(350)]\n",
    "y_val = [U[:,0][i] for i in range(350)]\n",
    "\n",
    "plt.scatter(x_val,y_val)\n",
    "plt.show()"
   ]
  },
  {
   "cell_type": "code",
   "execution_count": null,
   "metadata": {
    "collapsed": true
   },
   "outputs": [],
   "source": []
  }
 ],
 "metadata": {
  "kernelspec": {
   "display_name": "Python 3",
   "language": "python",
   "name": "python3"
  },
  "language_info": {
   "codemirror_mode": {
    "name": "ipython",
    "version": 3
   },
   "file_extension": ".py",
   "mimetype": "text/x-python",
   "name": "python",
   "nbconvert_exporter": "python",
   "pygments_lexer": "ipython3",
   "version": "3.6.1"
  }
 },
 "nbformat": 4,
 "nbformat_minor": 2
}
