{
 "cells": [
  {
   "cell_type": "code",
   "execution_count": 1,
   "metadata": {},
   "outputs": [],
   "source": [
    "from ast import literal_eval\n",
    "from scipy.spatial import distance\n",
    "from joblib import Parallel, delayed, parallel_backend\n",
    "import multiprocessing"
   ]
  },
  {
   "cell_type": "code",
   "execution_count": 2,
   "metadata": {},
   "outputs": [],
   "source": [
    "def bits(n):\n",
    "    b = []\n",
    "    while n:\n",
    "        b = [n & 1] + b\n",
    "        n >>= 1\n",
    "    if len(b) < 16:\n",
    "        for i in range(16 - len(b)):\n",
    "            b = [0] + b\n",
    "    return b or [0,0,0,0,0,0,0,0,0,0,0,0,0,0,0,0]"
   ]
  },
  {
   "cell_type": "code",
   "execution_count": 3,
   "metadata": {},
   "outputs": [],
   "source": [
    "def get_geno_bits(geno,n_sample,num_reg):\n",
    "    geno_bits = []\n",
    "    \n",
    "    for ind in range(n_sample):\n",
    "        geno_bits.append([])\n",
    "        for reg in range(num_reg):\n",
    "            seq = bits(geno[ind * num_reg + reg])\n",
    "            for bp in range(len(seq)):\n",
    "                geno_bits[ind].append(seq[bp])\n",
    "    \n",
    "    return geno_bits\n",
    "    "
   ]
  },
  {
   "cell_type": "code",
   "execution_count": 4,
   "metadata": {},
   "outputs": [],
   "source": [
    "def get_otus(geno_bits,n_sample,num_reg):\n",
    "    av_list = []\n",
    "    for i in range(n_sample - 1):\n",
    "        av_list.append(1 + i)\n",
    "    \n",
    "    otu = []\n",
    "    \n",
    "    rep = 0\n",
    "    while(1):\n",
    "        tmp = [[item for item in geno_bits[rep]]]\n",
    "        rm = []\n",
    "        for i in range(len(av_list)):\n",
    "            num_diff = distance.cityblock(geno_bits[rep],geno_bits[av_list[i]])\n",
    "                \n",
    "            if num_diff/(num_reg * 15) < 1.0:\n",
    "                tmp.append([item for item in geno_bits[av_list[i]]])\n",
    "                rm.append(av_list[i])\n",
    "                \n",
    "        otu.append([[item for item in sublist] for sublist in tmp])\n",
    "        \n",
    "        tmp_av_list = []\n",
    "        for i in range(len(av_list)):\n",
    "            check = 0\n",
    "            for j in range(len(rm)):\n",
    "                if av_list[i] == rm[j]:\n",
    "                    check = 1\n",
    "            if check == 0:\n",
    "                tmp_av_list.append(av_list[i])\n",
    "        av_list = [tmp_av_list[i] for i in range(len(tmp_av_list))]\n",
    "        if len(av_list) == 0:\n",
    "            break\n",
    "        rep = min(av_list)\n",
    "        av_list.remove(rep)\n",
    "    \n",
    "    rm_otu = []\n",
    "    for i in range(len(otu)):\n",
    "        if len(otu[i]) <= 1:\n",
    "            rm_otu.append(otu[i])\n",
    "    \n",
    "    for i in range(len(rm_otu)):\n",
    "        otu.remove(rm_otu[i])\n",
    "    \n",
    "    loc_S_list = []\n",
    "    loc_th_list = []\n",
    "    loc_n_list = []\n",
    "    loc_D_list = []\n",
    "    \n",
    "    for cls in range(len(otu)):\n",
    "        dist = []\n",
    "        bp_sum = [0 for i in range(num_reg * 16)]\n",
    "        for bp in range(num_reg * 16):\n",
    "            bp_sum[bp] = bp_sum[bp] + otu[cls][len(otu[cls]) - 1][bp]\n",
    "        for ind1 in range(len(otu[cls]) - 1):\n",
    "            for indx in range(len(otu[cls]) - (ind1 + 1)):\n",
    "                ind2 = ind1 + indx + 1\n",
    "                dist.append(distance.cityblock(otu[cls][ind1],otu[cls][ind2]))\n",
    "            for bp in range(len(otu[cls][ind1])):\n",
    "                bp_sum[bp] = bp_sum[bp] + otu[cls][ind1][bp]\n",
    "        \n",
    "        n = len(otu[cls])\n",
    "        \n",
    "        k = sum(dist)/len(dist)\n",
    "        \n",
    "        S = 0\n",
    "        for bp in range(num_reg * 16):\n",
    "            if bp_sum[bp] > 0 and bp_sum[bp] < n:\n",
    "                S = S + 1\n",
    "        \n",
    "        a1 = 0\n",
    "        a2 = 0\n",
    "        for i in range(n - 1):\n",
    "            a1 = a1 + 1/(i+1)\n",
    "            a2 = a2 + 1/((i+1)**2)\n",
    "        \n",
    "        b1 = (n + 1)/(3*(n - 1))\n",
    "        b2 = (2*(n**2 + n + 3))/(9*n*(n - 1))\n",
    "        c1 = b1 - 1/a1\n",
    "        c2 = b2 - (n+2)/(a1*n) + a2/(a1**2)\n",
    "        e1 = c1/a1\n",
    "        e2 = c2/(a1**2 + a2)\n",
    "        \n",
    "        if (e1*S + e2*S*(S - 1)) > 0:\n",
    "            d = (k - S/a1)/((e1*S + e2*S*(S - 1))**0.5)\n",
    "        else:\n",
    "            d = 0\n",
    "        \n",
    "        loc_S_list.append(S)\n",
    "        loc_th_list.append(k)\n",
    "        loc_D_list.append(d)\n",
    "    \n",
    "    loc_n_list = [len(otu[i]) for i in range(len(otu))]\n",
    "    \n",
    "    return [loc_n_list,loc_S_list,loc_th_list,loc_D_list]"
   ]
  },
  {
   "cell_type": "code",
   "execution_count": 5,
   "metadata": {},
   "outputs": [],
   "source": [
    "geno=[]\n",
    "with open('Geno.out','r') as data_file: \n",
    "    for line in data_file: \n",
    "       geno.append(literal_eval(line))\n",
    "data_file.close()"
   ]
  },
  {
   "cell_type": "code",
   "execution_count": 6,
   "metadata": {},
   "outputs": [
    {
     "data": {
      "text/plain": [
       "40960"
      ]
     },
     "execution_count": 6,
     "metadata": {},
     "output_type": "execute_result"
    }
   ],
   "source": [
    "# Check that genotypes are okay, such that max < 2^16 = 65536\n",
    "max([max(geno[i]) for i in range(len(geno))])"
   ]
  },
  {
   "cell_type": "code",
   "execution_count": 7,
   "metadata": {},
   "outputs": [
    {
     "data": {
      "text/plain": [
       "1000"
      ]
     },
     "execution_count": 7,
     "metadata": {},
     "output_type": "execute_result"
    }
   ],
   "source": [
    "len(geno)"
   ]
  },
  {
   "cell_type": "code",
   "execution_count": 8,
   "metadata": {},
   "outputs": [],
   "source": [
    "num_reps = len(geno)\n",
    "num_reg = 100\n",
    "n_sample = 100\n",
    "\n",
    "num_cores = 12"
   ]
  },
  {
   "cell_type": "code",
   "execution_count": 9,
   "metadata": {},
   "outputs": [],
   "source": [
    "with parallel_backend(\"loky\", inner_max_num_threads=1):\n",
    "    geno_bits = Parallel(n_jobs=num_cores)(delayed(get_geno_bits)(geno[i],n_sample,num_reg) for i in range(len(geno)))"
   ]
  },
  {
   "cell_type": "code",
   "execution_count": 10,
   "metadata": {},
   "outputs": [],
   "source": [
    "with parallel_backend(\"loky\", inner_max_num_threads=1):\n",
    "    otu_res = Parallel(n_jobs=num_cores)(delayed(get_otus)(geno_bits[i],n_sample,num_reg) for i in range(len(geno)))"
   ]
  },
  {
   "cell_type": "code",
   "execution_count": 11,
   "metadata": {},
   "outputs": [],
   "source": [
    "n_list = [[item for item in otu_res[i][0]] for i in range(len(otu_res))]\n",
    "S_list = [[item for item in otu_res[i][1]] for i in range(len(otu_res))]\n",
    "pi_list = [[item for item in otu_res[i][2]] for i in range(len(otu_res))]\n",
    "D_list = [[item for item in otu_res[i][3]] for i in range(len(otu_res))]"
   ]
  },
  {
   "cell_type": "code",
   "execution_count": 12,
   "metadata": {},
   "outputs": [],
   "source": [
    "import matplotlib.pyplot as plt\n",
    "import math as m"
   ]
  },
  {
   "cell_type": "code",
   "execution_count": 13,
   "metadata": {},
   "outputs": [
    {
     "data": {
      "text/plain": [
       "0.9771941414141404"
      ]
     },
     "execution_count": 13,
     "metadata": {},
     "output_type": "execute_result"
    }
   ],
   "source": [
    "sum([pi_list[i][0] for i in range(len(otu_res))])/(len(otu_res))"
   ]
  },
  {
   "cell_type": "code",
   "execution_count": 14,
   "metadata": {},
   "outputs": [],
   "source": [
    "from statistics import mean\n",
    "from random import choices"
   ]
  },
  {
   "cell_type": "code",
   "execution_count": 15,
   "metadata": {},
   "outputs": [],
   "source": [
    "data = [pi_list[i][0] for i in range(len(otu_res))]"
   ]
  },
  {
   "cell_type": "code",
   "execution_count": 16,
   "metadata": {},
   "outputs": [],
   "source": [
    "means = sorted(mean(choices(data, k=len(data))) for i in range(1000))"
   ]
  },
  {
   "cell_type": "code",
   "execution_count": 17,
   "metadata": {},
   "outputs": [
    {
     "name": "stdout",
     "output_type": "stream",
     "text": [
      "The sample mean of 1.0 has a 95% confidence interval from 0.92967 to 1.02622\n"
     ]
    }
   ],
   "source": [
    "print(f'The sample mean of {mean(data):.1f} has a 95% confidence '\n",
    "      f'interval from {means[24]:.5f} to {means[974]:.5f}')"
   ]
  },
  {
   "cell_type": "code",
   "execution_count": null,
   "metadata": {},
   "outputs": [],
   "source": []
  }
 ],
 "metadata": {
  "kernelspec": {
   "display_name": "Python 3",
   "language": "python",
   "name": "python3"
  },
  "language_info": {
   "codemirror_mode": {
    "name": "ipython",
    "version": 3
   },
   "file_extension": ".py",
   "mimetype": "text/x-python",
   "name": "python",
   "nbconvert_exporter": "python",
   "pygments_lexer": "ipython3",
   "version": "3.6.8"
  }
 },
 "nbformat": 4,
 "nbformat_minor": 2
}
